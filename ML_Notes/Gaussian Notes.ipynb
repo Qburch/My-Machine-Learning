{
 "cells": [
  {
   "cell_type": "markdown",
   "id": "3e409ef9-c38e-469c-8e25-edb59f79ace0",
   "metadata": {
    "tags": []
   },
   "source": [
    "# Gaussian Probability Distributions"
   ]
  },
  {
   "cell_type": "markdown",
   "id": "6b7dc363-f790-4ca4-b1ba-1145f24d8292",
   "metadata": {},
   "source": [
    "The Gaussian, or normal, distribution is used to model continuous variables. "
   ]
  },
  {
   "cell_type": "markdown",
   "id": "7d21e93e-c3e0-4537-a26e-195abb83f0e2",
   "metadata": {},
   "source": [
    "For a single variable x, the Gaussian distribution is given by\n",
    "$$\\color{green}{ N(x|\\mu,\\sigma^{2}) =  \\dfrac{1}{(2\\pi\\sigma^{2})^{1/2}} exp\\{-\\dfrac{1}{2\\sigma^{2}} (x - \\mu)^2\\}  }$$"
   ]
  },
  {
   "cell_type": "markdown",
   "id": "34fc8801-1328-40c6-b462-402ff6914ff3",
   "metadata": {},
   "source": [
    "For a D-dim vector $\\vec{x}$, the multivirate Gaussian distribution takes the form\n",
    "$$\\color{green}{ N(\\vec{x}|\\vec{\\mu},\\mathbf{\\Sigma}) =  \\dfrac{1}{(2\\pi)^{D/2}} \\dfrac{1}{|\\mathbf{\\Sigma}|^{1/2}} exp\\{-\\dfrac{1}{2} (\\vec{x} - \\vec{\\mu})^T \\mathbf{\\Sigma}^{-1} (\\vec{x} - \\vec{\\mu})\\} }\n",
    "$$"
   ]
  },
  {
   "cell_type": "markdown",
   "id": "4429f054-9f3b-489a-9f3b-f2bac47f462a",
   "metadata": {
    "tags": []
   },
   "source": [
    "where $\\vec{\\mu}$ is a D-dim mean vector, $\\mathbf{\\Sigma}$ is a DxD covariance matrix, and $|\\mathbf{\\Sigma}|$ denotes the determinant of $\\mathbf{\\Sigma}$"
   ]
  },
  {
   "cell_type": "markdown",
   "id": "0d407442-6d46-40d8-ab11-f4ff3c147888",
   "metadata": {},
   "source": [
    "***"
   ]
  },
  {
   "cell_type": "markdown",
   "id": "46b737ec-904c-4b9e-93d7-a619de316328",
   "metadata": {},
   "source": [
    "## Conditional Gaussian Distributions"
   ]
  },
  {
   "cell_type": "markdown",
   "id": "b1e73260-9e9f-457f-9241-f9367a4bedd5",
   "metadata": {
    "tags": []
   },
   "source": [
    "An important property of the multivariate Gaussian distribution is that if two sets of variables are jointly Gaussian, then the conditional distribution of one set conditioned on the other is again Gaussian."
   ]
  },
  {
   "cell_type": "markdown",
   "id": "96c09547-7169-40c5-865d-ff043cfbae77",
   "metadata": {},
   "source": [
    "Suppose $\\vec{x}$ is a D-dimensional vector with Gaussian distribution $N(\\vec{x}|\\vec{\\mu}, \\mathbf{\\Sigma})$ and that we partition $\\vec{x}$ into two disjoint subsets $\\vec{x_a}$ and $\\vec{x_b}$. \n",
    "Without loss of generality, we can take $\\vec{x_a}$ to form the first M components of x, with $\\vec{x_b}$ comprising the remaining D − M components, so that\n",
    "$$\\vec{x} = \\begin{pmatrix} \\vec{x_a} \\\\ \\vec{x_b} \\end{pmatrix}$$\n",
    "We also define corresponding partitions of the mean vector μ given by\n",
    "$$\\vec{\\mu} = \\begin{pmatrix} \\vec{\\mu_a} \\\\ \\vec{\\mu_b} \\end{pmatrix}$$"
   ]
  },
  {
   "cell_type": "markdown",
   "id": "6f86300c-4007-4045-9ab0-9b7e3cce1c16",
   "metadata": {},
   "source": [
    "and the covariance matrix given by\n",
    "$$ \\mathbf{\\Sigma}  = \\begin{bmatrix} \\mathbf{\\Sigma_{aa}} \\ \\mathbf{\\Sigma_{ab}} \\\\  \\mathbf{\\Sigma_{ba}} \\ \\mathbf{\\Sigma_{bb}} \\end{bmatrix}$$."
   ]
  },
  {
   "cell_type": "markdown",
   "id": "f3915c08-265a-44c4-8877-82997f14c577",
   "metadata": {},
   "source": [
    "It is important to note that since the covariance matrix is symmetrical ($\\mathbf{\\Sigma} = \\mathbf{\\Sigma}^T$) we have that $\\mathbf{\\Sigma_{aa}}$ and $\\mathbf{\\Sigma_{bb}}$ are symmetric and $\\mathbf{\\Sigma_{ba}}  = \\mathbf{\\Sigma_{ab}}^T$"
   ]
  },
  {
   "cell_type": "markdown",
   "id": "c33d8e26-e4da-45ab-9932-caad4c05e242",
   "metadata": {
    "tags": []
   },
   "source": [
    "However, in many situations it is more convinient to work with the inverse of the covariance matrix, which is know as the $precision \\ matrix$\n",
    "$$ \\mathbf{\\Lambda} = \\mathbf{\\Sigma}^{-1}$$"
   ]
  },
  {
   "cell_type": "markdown",
   "id": "f01f5fbd-6a3e-4ea5-b1d5-0994ae5913be",
   "metadata": {},
   "source": [
    "We shall also introduce a partitioned form of the precision matrix\n",
    "$$ \\mathbf{\\Lambda}  = \\begin{bmatrix} \\mathbf{\\Lambda_{aa}} \\ \\mathbf{\\Lambda_{ab}} \\\\  \\mathbf{\\Lambda_{ba}} \\ \\mathbf{\\Lambda_{bb}} \\end{bmatrix}$$\n",
    "It is important to note that $\\mathbf{\\Lambda_{aa}}$ is not simply the inverse of $\\mathbf{\\Sigma_{aa}}$, and we shall examine their relationship soon. \n",
    "We must also note that becuase the inverse of a symmetric matrix is symmetrix, we have that $\\mathbf{\\Lambda_{aa}}$ and $\\mathbf{\\Lambda_{bb}}$ are symmetric and $\\mathbf{\\Lambda_{ba}}  = \\mathbf{\\Lambda_{ab}}^T$."
   ]
  },
  {
   "cell_type": "markdown",
   "id": "5db10731-4f03-4dba-80b5-5845ceaf938c",
   "metadata": {
    "tags": []
   },
   "source": [
    "Let us begin by finding an expression for the conditional distribution $p(\\vec{x_a}|\\vec{x_b})$."
   ]
  },
  {
   "cell_type": "markdown",
   "id": "bd5a6603-42cc-4064-a871-29f747c90443",
   "metadata": {},
   "source": [
    "From the product rule of probability, we see that this conditional distribution can be evaluated from the joint distribution $p(\\vec{x}) = p(\\vec{x_a},\\vec{x_b})$ simply by fixing $\\vec{x_b}$ to the observed value and normalizing the resulting expression to obtain a valid probability distribution over $\\vec{x_a}$."
   ]
  },
  {
   "cell_type": "markdown",
   "id": "c91c67a5-a642-4f21-a3fc-8ea4ef465eb3",
   "metadata": {},
   "source": [
    "Instead of performing this normalization explicitly, we can obtain the solution more efficiently by considering the quadratic form in the exponent of the Gaussian distribution and then reinstating the normalization coefficient at the end of the calculation."
   ]
  },
  {
   "cell_type": "markdown",
   "id": "ad47d54c-56ae-4c06-b2a2-9aa997790a0c",
   "metadata": {},
   "source": [
    "The quadratic form in the exponent of the Gaussian distribituion is given by\n",
    "$$\\color{green}{-\\dfrac{1}{2} (\\vec{x} - \\vec{\\mu})^T \\mathbf{\\Sigma}^{-1} (\\vec{x} - \\vec{\\mu})}$$"
   ]
  },
  {
   "cell_type": "markdown",
   "id": "31d7a17f-063c-4077-9f07-1bdbe3af8042",
   "metadata": {},
   "source": [
    "making use of the partitioning we obtain\n",
    "$$ = \\color{red}{ - \\dfrac{1}{2} (\\vec{x_{a}} - \\vec{\\mu_{a}})^T \\mathbf{\\Lambda}_{aa} (\\vec{x_{a}} - \\vec{\\mu_{a}})\n",
    "- \\dfrac{1}{2} (\\vec{x_{a}} - \\vec{\\mu_{a}})^T \\mathbf{\\Lambda}_{ab} (\\vec{x_{b}} - \\vec{\\mu_{b}})\n",
    "- \\dfrac{1}{2} (\\vec{x_{b}} - \\vec{\\mu_{b}})^T \\mathbf{\\Lambda}_{ba} (\\vec{x_{a}} - \\vec{\\mu_{a}})\n",
    "- \\dfrac{1}{2} (\\vec{x_{b}} - \\vec{\\mu_{b}})^T \\mathbf{\\Lambda}_{bb} (\\vec{x_{b}} - \\vec{\\mu_{b}})}$$"
   ]
  },
  {
   "cell_type": "markdown",
   "id": "78a2dd4f-e5dd-4049-9aba-8fc19e35cf1e",
   "metadata": {
    "tags": []
   },
   "source": [
    "As we can see we this is a function of $\\vec{x_a}$ in quadratic form. Thus we know that corresponding conditional distribution $p(\\vec{x_a}|\\vec{x_b})$ will be Gaussian"
   ]
  },
  {
   "cell_type": "markdown",
   "id": "f86491c1-06e1-4fb0-bb1c-117b04ed65e2",
   "metadata": {},
   "source": [
    "Because this distribution is completely characterized by its mean and its covariance, our goal will be to identify expressions for the mean and covariance by inspection of the partioned equation above"
   ]
  },
  {
   "cell_type": "markdown",
   "id": "6aad6e87-7704-4b09-aa1d-27e502b07aca",
   "metadata": {},
   "source": [
    "Such problems can be solved straightforwardly by noting that the exponent in a general Gaussian distribution $N(\\vec{x}|\\vec{\\mu},\\mathbf{\\Sigma})$ can be written \n",
    "$$\\color{green}{-\\dfrac{1}{2} (\\vec{x} - \\vec{\\mu})^T \\mathbf{\\Sigma}^{-1} (\\vec{x} - \\vec{\\mu})} =\n",
    "\\color{green}{-\\dfrac{1}{2} \\vec{x}^T \\mathbf{\\Sigma}^{-1}\\vec{x} + \\vec{x}^T\\mathbf{\\Sigma}^{-1}\\vec{\\mu} + const.}$$"
   ]
  },
  {
   "cell_type": "markdown",
   "id": "6c7d1d2a-add5-4abc-9b3e-d580a205a718",
   "metadata": {},
   "source": [
    "If we can transform our partioned equation, so that it can match this form dependent on $\\vec{x_a}$ then we can find $\\vec{\\mu}$ and $\\mathbf{\\Sigma}$"
   ]
  },
  {
   "cell_type": "markdown",
   "id": "ff46e927-43c4-410d-9869-efe377967c15",
   "metadata": {},
   "source": [
    "Now let us focus on the $\\vec{x_a}$ terms\n",
    "$$ - \\dfrac{1}{2} (\\vec{x_{a}} - \\vec{\\mu_{a}})^T \\mathbf{\\Lambda}_{aa} (\\vec{x_{a}} - \\vec{\\mu_{a}})\n",
    "- \\dfrac{1}{2} \\vec{x_{a}}^T \\mathbf{\\Lambda}_{ab} (\\vec{x_{b}} - \\vec{\\mu_{b}})\n",
    "- \\dfrac{1}{2} (\\vec{x_{b}} - \\vec{\\mu_{b}})^T \\mathbf{\\Lambda}_{ba} \\vec{x_{a}}$$"
   ]
  },
  {
   "cell_type": "markdown",
   "id": "4203f46f-1bbe-4885-9f82-2128bd3af4e4",
   "metadata": {},
   "source": [
    "Applying the symmetry properties listed above and some transpose arithmetic we can rewrite the equation\n",
    "$$ - \\dfrac{1}{2} (\\vec{x_{a}} - \\vec{\\mu_{a}})^T \\mathbf{\\Lambda}_{aa} (\\vec{x_{a}} - \\vec{\\mu_{a}})\n",
    "-  \\vec{x_{a}}^T \\mathbf{\\Lambda}_{ab} (\\vec{x_{b}} - \\vec{\\mu_{b}})$$"
   ]
  },
  {
   "cell_type": "markdown",
   "id": "38ffd760-98b8-4b5d-a060-f8717239fcdd",
   "metadata": {},
   "source": [
    "Expanding the square for the first part, the expression becomes\n",
    "$$ -  \\dfrac{1}{2}\\vec{x_a}^T\\mathbf{\\Lambda}_{aa}\\vec{x_a}\n",
    "+ \\vec{x_a}^T\\mathbf{\\Lambda}_{aa}\\vec{\\mu_a} + const. - \\ \\vec{x_{a}}^T \\mathbf{\\Lambda}_{ab} (\\vec{x_{b}} - \\vec{\\mu_{b}})$$\n"
   ]
  },
  {
   "cell_type": "markdown",
   "id": "27b7999b-5fc2-488e-9246-c5df64ef4a87",
   "metadata": {},
   "source": [
    "Which allows us to simplify it to"
   ]
  },
  {
   "cell_type": "markdown",
   "id": "ffb2e8af-f964-4e8d-9fe6-55d969793d65",
   "metadata": {},
   "source": [
    "$$\\color{red}{ - \\dfrac{1}{2}\\vec{x_a}^T\\mathbf{\\Lambda}_{aa}\\vec{x_a}\n",
    "+  \\vec{x_a}^T [\\mathbf{\\Lambda}_{aa}\\vec{\\mu_a} - \\mathbf{\\Lambda}_{ab}\\vec{x_b} + \\mathbf{\\Lambda}_{ab}\\vec{\\mu_b}] + const.}$$"
   ]
  },
  {
   "cell_type": "markdown",
   "id": "2d7e388d-2ecd-4672-a2cb-7c648adad443",
   "metadata": {},
   "source": [
    "Let $\\vec{m} =[\\mathbf{\\Lambda}_{aa}\\vec{\\mu_a} - \\mathbf{\\Lambda}_{ab}\\vec{x_b} + \\mathbf{\\Lambda}_{ab}\\vec{\\mu_b}]$ so that our expression becomes\n",
    "$$\\color{red}{ - \\dfrac{1}{2}\\vec{x_a}^T\\mathbf{\\Lambda}_{aa}\\vec{x_a} + \\vec{x_a}^T\\vec{m} + const.}$$"
   ]
  },
  {
   "cell_type": "markdown",
   "id": "3fe62d30-9004-41ad-9bbd-d49bbba0a741",
   "metadata": {},
   "source": [
    "Now our goal is to complete the square so that we can draw conclusions from the general quadratic form of the Gaussian distribution. We will denote the mean and coviarnce of this distribution by $\\vec{\\mu_{a|b}}$ and $\\mathbf{\\Sigma}_{a|b}$, respectively. The general form is given by\n",
    "$$\\color{red}{-\\dfrac{1}{2} (\\vec{x} - \\vec{\\mu_{a|b}})^T \\mathbf{\\Sigma}_{a|b}^{-1} (\\vec{x} - \\vec{\\mu_{a|b}})}$$"
   ]
  },
  {
   "cell_type": "markdown",
   "id": "74b1d144-2ff6-44f4-8730-c548cd56c54b",
   "metadata": {
    "tags": []
   },
   "source": [
    "Let us begin completing the square\n",
    "$$ - \\dfrac{1}{2}\\vec{x_a}^T\\mathbf{\\Lambda}_{aa}\\vec{x_a} + \\vec{x_a}^T\\mathbf{\\Lambda}_{aa}(\\mathbf{\\Lambda}_{aa}^{-1}\\vec{m})$$\n",
    "$$ - \\dfrac{1}{2}\\vec{x_a}^T\\mathbf{\\Lambda}_{aa}\\vec{x_a} + \\vec{x_a}^T\\mathbf{\\Lambda}_{aa}(\\mathbf{\\Lambda}_{aa}^{-1}\\vec{m}) - \\dfrac{1}{2}\\vec{m}^T\\mathbf{\\Lambda}_{aa}^{-1}\\vec{m} + \\dfrac{1}{2}\\vec{m}^T\\mathbf{\\Lambda}_{aa}^{-1}\\vec{m}$$"
   ]
  },
  {
   "cell_type": "markdown",
   "id": "a3896221-31c3-4159-8fab-0dbd129a8e92",
   "metadata": {},
   "source": [
    "Thus we have\n",
    "$$- \\dfrac{1}{2} (\\vec{x_a} - \\mathbf{\\Lambda}_{aa}^{-1}\\vec{m})^T {\\Lambda}_{aa} (\\vec{x_a} - \\mathbf{\\Lambda}_{aa}^{-1}\\vec{m}) + \\dfrac{1}{2}\\vec{m}^T\\mathbf{\\Lambda}_{aa}^{-1}\\vec{m}$$"
   ]
  },
  {
   "cell_type": "markdown",
   "id": "3fd07dec-b69c-4987-a1e3-2e32c23846b6",
   "metadata": {},
   "source": [
    "Noting the last term is not dependent on $\\vec{x_a}$ we can drop it so that we have\n",
    "$$\\color{red}{- \\dfrac{1}{2} (\\vec{x_a} - \\mathbf{\\Lambda}_{aa}^{-1}\\vec{m})^T {\\Lambda}_{aa} (\\vec{x_a} - \\mathbf{\\Lambda}_{aa}^{-1}\\vec{m}) }$$"
   ]
  },
  {
   "cell_type": "markdown",
   "id": "c2c7e560-96bd-44ed-a01e-b0a7cd6e306e",
   "metadata": {},
   "source": [
    "from which we can immediately conlcude that the covariance of $p(\\vec{x_a}|\\vec{x_b})$ is given by $$\\mathbf{\\Sigma}_{a|b} = \\mathbf{\\Lambda}_{aa}^{-1}$$"
   ]
  },
  {
   "cell_type": "markdown",
   "id": "0bfb39a2-1f92-4f04-9b4f-959a0ebc0e54",
   "metadata": {},
   "source": [
    "And for the mean of $p(\\vec{x_a}|\\vec{x_b})$  is given by\n",
    "$$\\vec{\\mu}_{a|b} = \\mathbf{\\Lambda}_{aa}^{-1}[\\mathbf{\\Lambda}_{aa}\\vec{\\mu_a} - \\mathbf{\\Lambda}_{ab}\\vec{x_b} + \\mathbf{\\Lambda}_{ab}\\vec{\\mu_b}]$$\n",
    "$$  = \\vec{\\mu}_a -  \\mathbf{\\Lambda}_{aa}^{-1}\\mathbf{\\Lambda}_{ab}(\\vec{x_b}-\\vec{\\mu_b})$$"
   ]
  },
  {
   "cell_type": "markdown",
   "id": "8c039f33-510e-4be9-91b1-5722a8ed6738",
   "metadata": {},
   "source": [
    "To summarize our results\n",
    "$$\\color{red}{\\mathbf{\\Sigma}_{a|b} = \\mathbf{\\Lambda}_{aa}^{-1}}$$\n",
    "$$\\color{red}{\\vec{\\mu}_{a|b} = \\vec{\\mu}_a -  \\mathbf{\\Lambda}_{aa}^{-1}\\mathbf{\\Lambda}_{ab}(\\vec{x_b}-\\vec{\\mu_b})}$$"
   ]
  },
  {
   "cell_type": "markdown",
   "id": "402c0eb8-1a74-4896-aa08-f9f4cf54d62d",
   "metadata": {},
   "source": [
    "We now want to examine how the parts of the $\\mathbf{\\Sigma}$ and $\\mathbf{\\Lambda}$ relate. In other words, we want to use the an identity for the inverse of partitioned matrix to solve\n",
    "$$\\begin{bmatrix} \\mathbf{\\Sigma}_{aa} \\ \\mathbf{\\Sigma}_{ab} \\\\  \\mathbf{\\Sigma}_{ba} \\ \\mathbf{\\Sigma}_{bb} \\end{bmatrix}^{-1} = \\begin{bmatrix} \\mathbf{\\Lambda}_{aa} \\ \\mathbf{\\Lambda}_{ab} \\\\  \\mathbf{\\Lambda}_{ba} \\ \\mathbf{\\Lambda}_{bb} \\end{bmatrix}$$"
   ]
  },
  {
   "cell_type": "markdown",
   "id": "ddf5a2df-3d51-4c7d-af05-b52c80d4e760",
   "metadata": {},
   "source": [
    "Using the proof below, and noticing we only need $\\mathbf{\\Lambda}_{aa}$ and $\\mathbf{\\Lambda}_{ab}$ to satisfy our results, we have\n",
    "$$ \\mathbf{\\Lambda}_{aa} = (\\mathbf{\\Sigma}_{aa} - \\mathbf{\\Sigma}_{ab}\\mathbf{\\Sigma}_{bb}^{-1}\\mathbf{\\Sigma}_{aa} )^{-1}$$"
   ]
  },
  {
   "cell_type": "markdown",
   "id": "5556cebe-a594-4814-bc10-a9d98f3f5a1d",
   "metadata": {},
   "source": [
    "$$  \\mathbf{\\Lambda}_{ab} = -\\mathbf{\\Lambda}_{aa}\\mathbf{\\Sigma}_{ab}\\mathbf{\\Sigma}_{bb}^{-1}$$"
   ]
  },
  {
   "cell_type": "markdown",
   "id": "8294cef6-5632-4cf4-ab7b-ab34aefbfa3b",
   "metadata": {},
   "source": [
    "While the conditional covariance substiution of $\\mathbf{\\Lambda}_{aa}$ is elementary, we can subsitute $\\mathbf{\\Lambda}_{ab}$ into the conditional mean to get \n",
    "$$\\vec{\\mu}_{a|b} = \\vec{\\mu}_{a} - \\mathbf{\\Lambda}_{aa}^{-1}(-\\mathbf{\\Lambda}_{aa}\\mathbf{\\Sigma}_{ab}\\mathbf{\\Sigma}_{bb}^{-1})(\\vec{x_b}-\\vec{\\mu_b})$$\n",
    "$$=\\vec{\\mu}_{a} + \\mathbf{\\Sigma}_{ab}\\mathbf{\\Sigma}_{bb}^{-1}(\\vec{x_b}-\\vec{\\mu_b})$$"
   ]
  },
  {
   "cell_type": "markdown",
   "id": "2e24ad3c-953d-4b53-970a-238157eeb1f9",
   "metadata": {},
   "source": [
    "Finally, we have the following expressions for the mean and covariance of the conditional distribution $p(\\vec{x_a}|\\vec{x_b})$\n",
    "$$\\color{red}{\\mathbf{\\Sigma}_{a|b} = \\mathbf{\\Sigma}_{aa} - \\mathbf{\\Sigma}_{ab}\\mathbf{\\Sigma}_{bb}^{-1}\\mathbf{\\Sigma}_{aa} }$$\n",
    "$$\\color{red}{\\vec{\\mu}_{a|b} =\\vec{\\mu}_{a} + \\mathbf{\\Sigma}_{ab}\\mathbf{\\Sigma}_{bb}^{-1}(\\vec{x_b}-\\vec{\\mu_b})}$$"
   ]
  },
  {
   "cell_type": "markdown",
   "id": "c855143a-f48c-4d3f-8127-6b901c1600bd",
   "metadata": {},
   "source": [
    "Note that the mean of the conditional distribution $\\vec{\\mu}_{a|b}$, is a linear function of $\\vec{x_b}$ and that the covariance, is independent of $\\vec{x_a}$. This represents an example of a linear-Gaussian model."
   ]
  },
  {
   "cell_type": "markdown",
   "id": "8d78743f-2678-4186-9830-becd43c4374b",
   "metadata": {},
   "source": [
    "---------------------------------------------------------------------------------------------"
   ]
  },
  {
   "cell_type": "markdown",
   "id": "4d1b1c38-a940-4bf5-9241-720013279c06",
   "metadata": {},
   "source": [
    "## Marginal Gaussian Distributions"
   ]
  },
  {
   "cell_type": "markdown",
   "id": "2e59661d-256a-467c-82cd-0269927d0d74",
   "metadata": {},
   "source": [
    "We have seen that the condition distribution $p(\\vec{x_a}|\\vec{x_b})$ will be Gaussian given the joint distribution $p(\\vec{x_a},\\vec{x_b})$ is Gaussian.\n",
    "Now we turn the $marginal$ $distribution$ given by $$\\color{green}{p(\\vec{x_a}) = \\int p(\\vec{x_a},\\vec{x_b}) \\ d\\vec{x_b}}$$\n",
    "which we will see is also Gaussian."
   ]
  },
  {
   "cell_type": "markdown",
   "id": "1056b7cb-5fd7-4bc4-b6df-d6a83452328a",
   "metadata": {},
   "source": [
    "It should be noted that before, in finding the conditional distruibution, we focused on the quadratic form in the exponent of the conditional distribution itself.\n",
    "Now, our strategy for evaluating this distribution will be to focus on the quadratic form in the exponent of the $joint$ distribution and thereby to identify the mean and covariance of the marginal distribution $p(\\vec{x_a})$. "
   ]
  },
  {
   "cell_type": "markdown",
   "id": "d6df428f-45c6-4d04-b210-81d0b8067411",
   "metadata": {},
   "source": [
    "As before, the quadratic form in the exponent of the joint Gaussian distribituion is given by\n",
    "$$\\color{green}{-\\dfrac{1}{2} (\\vec{x} - \\vec{\\mu})^T \\mathbf{\\Sigma}^{-1} (\\vec{x} - \\vec{\\mu})}$$"
   ]
  },
  {
   "cell_type": "markdown",
   "id": "cf3ded29-ecd1-421f-b9e1-1d0be2491d59",
   "metadata": {},
   "source": [
    "and making use of the partitioning we obtain \n",
    "$$ - \\dfrac{1}{2} (\\vec{x_{a}} - \\vec{\\mu_{a}})^T \\mathbf{\\Lambda}_{aa} (\\vec{x_{a}} - \\vec{\\mu_{a}})\n",
    "- \\dfrac{1}{2} (\\vec{x_{b}} - \\vec{\\mu_{b}})^T \\mathbf{\\Lambda}_{ba} (\\vec{x_{a}} - \\vec{\\mu_{a}})\n",
    "- \\dfrac{1}{2} (\\vec{x_{a}} - \\vec{\\mu_{a}})^T \\mathbf{\\Lambda}_{ab} (\\vec{x_{b}} - \\vec{\\mu_{b}})\n",
    "- \\dfrac{1}{2} (\\vec{x_{b}} - \\vec{\\mu_{b}})^T \\mathbf{\\Lambda}_{bb} (\\vec{x_{b}} - \\vec{\\mu_{b}})$$"
   ]
  },
  {
   "cell_type": "markdown",
   "id": "d88d5541-dec0-465d-94e6-f088d3bb6b40",
   "metadata": {},
   "source": [
    "Because our goal is to integrate out $\\vec{x_b}$, this is most easily achieved by first considering the terms involving $\\vec{x_b}$ and then completing the square in order to facilitate integration. Picking out just those terms that involve $\\vec{x_b}$, we have"
   ]
  },
  {
   "cell_type": "markdown",
   "id": "cc056abf-303c-4ff7-8efd-037e84fd955c",
   "metadata": {},
   "source": [
    "$$\n",
    "- \\dfrac{1}{2} (\\vec{x_{b}} - \\vec{\\mu_{b}})^T \\mathbf{\\Lambda}_{bb} (\\vec{x_{b}} - \\vec{\\mu_{b}})\n",
    "- \\dfrac{1}{2} \\vec{x_{b}}^T \\mathbf{\\Lambda}_{ba} (\\vec{x_{a}} - \\vec{\\mu_{a}})\n",
    "- \\dfrac{1}{2} (\\vec{x_{a}} - \\vec{\\mu_{a}})^T \\mathbf{\\Lambda}_{ab} \\vec{x_{b}}\n",
    "$$"
   ]
  },
  {
   "cell_type": "markdown",
   "id": "e3272e73-ca74-4962-8e48-00e65375543c",
   "metadata": {},
   "source": [
    "Applying the symmetry properties listed above and some transpose arithmetic we can rewrite the equation\n",
    "$$\n",
    "- \\dfrac{1}{2} (\\vec{x_{b}} - \\vec{\\mu_{b}})^T \\mathbf{\\Lambda}_{bb} (\\vec{x_{b}} - \\vec{\\mu_{b}})\n",
    "- \\vec{x_{b}}^T \\mathbf{\\Lambda}_{ba} (\\vec{x_{a}} - \\vec{\\mu_{a}})\n",
    "$$"
   ]
  },
  {
   "cell_type": "markdown",
   "id": "81ef7a7d-5688-474e-a9d7-0eac11c31d5f",
   "metadata": {},
   "source": [
    "Expanding the square for the first part, we have\n",
    "$$ - \\dfrac{1}{2}\\vec{x_{b}}^T\\mathbf{\\Lambda}_{bb}\\vec{x_{b}} + \\vec{x_{b}}^T\\mathbf{\\Lambda}_{bb}\\vec{\\mu_{b}} + const.  -  \\ \\vec{x_{b}}^T \\mathbf{\\Lambda}_{ba} (\\vec{x_{a}} - \\vec{\\mu_{a}})$$"
   ]
  },
  {
   "cell_type": "markdown",
   "id": "0795f734-592a-4c6f-afb2-356726ce6f6b",
   "metadata": {},
   "source": [
    "Combining like terms and dropping the dropping the const. term, we have\n",
    "$$\\color{red}{ - \\dfrac{1}{2}\\vec{x_{b}}^T\\mathbf{\\Lambda}_{bb}\\vec{x_{b}} + \\vec{x_{b}}^T[\\mathbf{\\Lambda}_{bb}\\vec{\\mu_{b}} -\\mathbf{\\Lambda}_{ba}(\\vec{x_{a}}-\\vec{\\mu_{a}})]}$$"
   ]
  },
  {
   "cell_type": "markdown",
   "id": "0d6560c5-69bf-4bb8-974d-86a46911f61f",
   "metadata": {},
   "source": [
    "Now, let us define $\\vec{m} = [\\mathbf{\\Lambda}_{bb}\\vec{\\mu_{b}} -\\mathbf{\\Lambda}_{ba}(\\vec{x_{a}}-\\vec{\\mu_{a}})]$ so that we can rewrite the equation as \n",
    "$$\\color{red}{ - \\dfrac{1}{2}[\\vec{x_{b}}^T\\mathbf{\\Lambda}_{bb}\\vec{x_{b}} + 2\\vec{x_{b}}^T\\vec{m}]}$$"
   ]
  },
  {
   "cell_type": "markdown",
   "id": "7b1015d1-d7b3-49e0-b116-582f052ba81e",
   "metadata": {},
   "source": [
    "Now we want to complete the square. First, we can add in the following\n",
    "$$ - \\dfrac{1}{2}[\\vec{x_{b}}^T\\mathbf{\\Lambda}_{bb}\\vec{x_{b}} + 2\\vec{x_{b}}^T\\mathbf{\\Lambda}_{bb}(\\mathbf{\\Lambda}_{bb}^{-1}\\vec{m})]$$"
   ]
  },
  {
   "cell_type": "markdown",
   "id": "da824ba4-c661-4971-a22f-6c49520f7af6",
   "metadata": {},
   "source": [
    "And now lets add in the neccesary terms to complete the square\n",
    "$$- \\dfrac{1}{2}[\\vec{x_{b}}^T\\mathbf{\\Lambda}_{bb}\\vec{x_{b}} + 2\\vec{x_{b}}^T\\mathbf{\\Lambda}_{bb}(\\mathbf{\\Lambda}^{-1}_{bb}\\vec{m}) + \\vec{m}^T\\mathbf{\\Lambda}_{bb}^{-1}\\vec{m}]+\\dfrac{1}{2}\\vec{m}^T\\mathbf{\\Lambda}_{bb}^{-1}\\vec{m}$$"
   ]
  },
  {
   "cell_type": "markdown",
   "id": "4fe50ae1-bd90-478d-94d1-4b90bba0e234",
   "metadata": {},
   "source": [
    "Thus we have\n",
    "$$\\color{red}{- \\dfrac{1}{2}(\\vec{x_{b}}-\\mathbf{\\Lambda}_{bb}^{-1}\\vec{m})^T\\mathbf{\\Lambda}_{bb}(\\vec{x_{b}}-\\mathbf{\\Lambda}_{bb}^{-1}\\vec{m})+\\dfrac{1}{2}\\vec{m}^T\\mathbf{\\Lambda}_{bb}^{-1}\\vec{m}}$$"
   ]
  },
  {
   "cell_type": "markdown",
   "id": "2311868d-e3d5-4822-9db7-a5f514930bf2",
   "metadata": {},
   "source": [
    "Note that although the last term is not dependent on $\\vec{x_b}$, and it does depend on $\\vec{x_a}$ by the definition of $\\vec{m}$.\n",
    "\n",
    "Focussing on only the terms dependent on $\\vec{x_b}$ we are left with\n",
    "$$\\color{red}{- \\dfrac{1}{2}(\\vec{x_{b}}-\\mathbf{\\Lambda}_{bb}^{-1}\\vec{m})^T\\mathbf{\\Lambda}_{bb}(\\vec{x_{b}}-\\mathbf{\\Lambda}_{bb}^{-1}\\vec{m})}$$"
   ]
  },
  {
   "cell_type": "markdown",
   "id": "3623b569-080e-468c-86a6-1825d1335cfe",
   "metadata": {},
   "source": [
    "Let us take a look at the terms depenedent on $\\vec{x_a}$ in $p(\\vec{x_a}|\\vec{x_b})$ that we dropped so far\n",
    "$$\n",
    "\\dfrac{1}{2}\\vec{m}^T\\mathbf{\\Lambda}_{bb}^{-1}\\vec{m}\n",
    "- \\dfrac{1}{2} (\\vec{x_{a}} - \\vec{\\mu_{a}})^T \\mathbf{\\Lambda}_{aa} (\\vec{x_{a}} - \\vec{\\mu_{a}})\n",
    "- \\vec{x_{a}^T \\mathbf{\\Lambda}_{ba} }(- \\vec{\\mu_{b}})\n",
    "$$"
   ]
  },
  {
   "cell_type": "markdown",
   "id": "c25ac0ac-c477-4e90-b252-373d25a1d57b",
   "metadata": {},
   "source": [
    "Expanding the square for the middle term, dropping the const. term, and combining like terms we have\n",
    "$$\n",
    "\\dfrac{1}{2}\\vec{m}^T\\mathbf{\\Lambda}_{bb}^{-1}\\vec{m}\n",
    "- \\dfrac{1}{2}\\vec{x_{a}}^T\\mathbf{\\Lambda}_{aa}\\vec{x_{a}} + \\vec{x_{a}}^T[\\mathbf{\\Lambda}_{aa}\\vec{\\mu_{a}} + \\mathbf{\\Lambda}_{ba}\\vec{\\mu_{b}}]$$"
   ]
  },
  {
   "cell_type": "markdown",
   "id": "a8ffabdf-e380-4880-b4c7-490b7bd60ec1",
   "metadata": {},
   "source": [
    "Let us take apart the first term\n",
    "$$\\dfrac{1}{2}[\\mathbf{\\Lambda}_{bb}\\vec{\\mu_{b}} -\\mathbf{\\Lambda}_{ba}(\\vec{x_{a}}-\\vec{\\mu_{a}})]^T\\mathbf{\\Lambda}_{bb}^{-1}[\\mathbf{\\Lambda}_{bb}\\vec{\\mu_{b}} -\\mathbf{\\Lambda}_{ba}(\\vec{x_{a}}-\\vec{\\mu_{a}})]$$"
   ]
  },
  {
   "cell_type": "markdown",
   "id": "5e7d7f9b-2f8c-4e27-b1ec-e79ccca5668b",
   "metadata": {},
   "source": [
    "$$\\dfrac{1}{2}(\\mathbf{\\Lambda}_{ba}(\\vec{x_{a}}-\\vec{\\mu_{a}}))^T\n",
    "\\mathbf{\\Lambda}_{bb}^{-1}\n",
    "(\\mathbf{\\Lambda}_{ba}(\\vec{x_{a}}-\\vec{\\mu_{a}}))\n",
    "-(\\mathbf{\\Lambda}_{ba}(\\vec{x_{a}}-\\vec{\\mu_{a}}))^T\n",
    "\\mathbf{\\Lambda}_{bb}^{-1}\n",
    "(\\mathbf{\\Lambda}_{bb}\\vec{\\mu_{b}})\n",
    "+ const.\n",
    "$$"
   ]
  },
  {
   "cell_type": "markdown",
   "id": "cc0fc729-9e73-4c70-8703-bf4c978050a3",
   "metadata": {},
   "source": [
    "$$\n",
    "\\dfrac{1}{2}(\\vec{x_{a}}-\\vec{\\mu_{a}})^T\n",
    "\\mathbf{\\Lambda}_{ab}\\mathbf{\\Lambda}_{bb}^{-1}\\mathbf{\\Lambda}_{ba}\n",
    "(\\vec{x_{a}}-\\vec{\\mu_{a}})\n",
    "- \\vec{x_a}\n",
    "\\mathbf{\\Lambda}_{ba}\n",
    "\\vec{\\mu_b} + const.\n",
    "$$\n"
   ]
  },
  {
   "cell_type": "markdown",
   "id": "c0a18797-99d5-4d5d-a96a-4d1f11eaa92e",
   "metadata": {},
   "source": [
    "$$\n",
    "\\dfrac{1}{2}\\vec{x_{a}}^T\n",
    "\\mathbf{\\Lambda}_{ab}\\mathbf{\\Lambda}_{bb}^{-1}\\mathbf{\\Lambda}_{ba}\n",
    "\\vec{x_{a}}\n",
    "- \\vec{x_{a}}^T\n",
    "\\mathbf{\\Lambda}_{ab}\\mathbf{\\Lambda}_{bb}^{-1}\\mathbf{\\Lambda}_{ba}\n",
    "\\vec{\\mu_a}\n",
    "+ const. - \\\n",
    "\\vec{x_a}^T\n",
    "\\mathbf{\\Lambda}_{ba}\n",
    "\\vec{\\mu_b}\n",
    " + const.\n",
    "$$\n"
   ]
  },
  {
   "cell_type": "markdown",
   "id": "d5b5395e-f70d-4a26-a09e-457981b8dd19",
   "metadata": {},
   "source": [
    "Returning to our expression for all the other terms dependent on $\\vec{x_a}$ and independent of $\\vec{x_b}$, and dropping the const., we have\n",
    "$$\\dfrac{1}{2}\\vec{x_{a}}^T\n",
    "(\\mathbf{\\Lambda}_{ab}\\mathbf{\\Lambda}_{bb}^{-1}\\mathbf{\\Lambda}_{ba})\n",
    "\\vec{x_{a}}\n",
    "- \\vec{x_{a}}^T\n",
    "(\\mathbf{\\Lambda}_{ab}\\mathbf{\\Lambda}_{bb}^{-1}\\mathbf{\\Lambda}_{ba})\n",
    "\\vec{\\mu_a}\n",
    "-\\vec{x_a}^T\n",
    "\\mathbf{\\Lambda}_{ba}\n",
    "\\vec{\\mu_b}\n",
    "- \\dfrac{1}{2}\\vec{x_{a}}^T\\mathbf{\\Lambda}_{aa}\\vec{x_{a}} + \\vec{x_{a}}^T[\\mathbf{\\Lambda}_{aa}\\vec{\\mu_{a}} + \\mathbf{\\Lambda}_{ba}\\vec{\\mu_{b}}]$$"
   ]
  },
  {
   "cell_type": "markdown",
   "id": "cb6fd69e-ca86-490f-a6d3-1800131fd966",
   "metadata": {},
   "source": [
    "Notice that the $\\vec{\\mu_b}$ term cancels out so we have \n",
    "$$\\dfrac{1}{2}\\vec{x_{a}}^T\n",
    "(\\mathbf{\\Lambda}_{ab}\\mathbf{\\Lambda}_{bb}^{-1}\\mathbf{\\Lambda}_{ba})\n",
    "\\vec{x_{a}}\n",
    "- \\vec{x_{a}}^T\n",
    "(\\mathbf{\\Lambda}_{ab}\\mathbf{\\Lambda}_{bb}^{-1}\\mathbf{\\Lambda}_{ba})\n",
    "\\vec{\\mu_a}- \\dfrac{1}{2}\\vec{x_{a}}^T\\mathbf{\\Lambda}_{aa}\\vec{x_{a}} + \\vec{x_{a}}^T\\mathbf{\\Lambda}_{aa}\\vec{\\mu_{a}}$$"
   ]
  },
  {
   "cell_type": "markdown",
   "id": "58931816-cda2-435a-945d-9956d7c02740",
   "metadata": {},
   "source": [
    "Grouping by like terms gives us\n",
    "$$-\\dfrac{1}{2}\\vec{x_{a}}^T\n",
    "(\\mathbf{\\Lambda}_{aa} - \\mathbf{\\Lambda}_{ab}\\mathbf{\\Lambda}_{bb}^{-1}\\mathbf{\\Lambda}_{ba})\n",
    "\\vec{x_{a}}\n",
    "+\n",
    "\\vec{x_{a}}^T\n",
    "(\\mathbf{\\Lambda}_{aa} - \\mathbf{\\Lambda}_{ab}\\mathbf{\\Lambda}_{bb}^{-1}\\mathbf{\\Lambda}_{ba})\n",
    "\\vec{\\mu_{a}}\n",
    "$$"
   ]
  },
  {
   "cell_type": "markdown",
   "id": "48c695f4-e04e-4507-9637-cfbe0c119672",
   "metadata": {},
   "source": [
    "Finally, completing the square, and dropping the constant we have \n",
    "$$\\color{red}{ -\\dfrac{1}{2} (\\vec{x_{a}}-\\vec{\\mu_{a}})^T\n",
    "[\\mathbf{\\Lambda}_{aa} - \\mathbf{\\Lambda}_{ab}\\mathbf{\\Lambda}_{bb}^{-1}\\mathbf{\\Lambda}_{ba}]\n",
    "(\\vec{x_{a}}-\\vec{\\mu_{a}})}$$"
   ]
  },
  {
   "cell_type": "markdown",
   "id": "c4f73844-3a47-4039-a2e6-19e517b18ccc",
   "metadata": {},
   "source": [
    "From this we can can conclude\n",
    "$$\\color{red}{\\mathbf{\\Sigma}_{a} = [\\mathbf{\\Lambda}_{aa} - \\mathbf{\\Lambda}_{ab}\\mathbf{\\Lambda}_{bb}^{-1}\\mathbf{\\Lambda}_{ba}]^{-1} }$$\n",
    "$$\\color{red}{ \\vec{\\mu_{a}} = \\vec{\\mu_{a}}} $$"
   ]
  },
  {
   "cell_type": "markdown",
   "id": "c5093d40-a7de-4344-b1be-cf04796e9774",
   "metadata": {},
   "source": [
    "Again, we want to rewrite this in terms of the corresponding partitioning of the covariance matrix. Using the proof below and inverting it, notice that \n",
    "$$ \\mathbf{\\Sigma}_{aa} = (\\mathbf{\\Lambda}_{aa} - \\mathbf{\\Lambda}_{ab}\\mathbf{\\Lambda}_{bb}^{-1}\\mathbf{\\Lambda}_{ba}) ^{-1}$$\n",
    "Thus\n",
    "$$\\color{red}{\\mathbf{\\Sigma}_{a} = \\mathbf{\\Sigma}_{aa}}$$"
   ]
  },
  {
   "cell_type": "markdown",
   "id": "ef8a3b34-262a-4d2d-b33e-880b59e4ecb9",
   "metadata": {},
   "source": [
    "---"
   ]
  },
  {
   "cell_type": "markdown",
   "id": "456c25b4-82de-4bf8-bc15-13bcff173fc1",
   "metadata": {},
   "source": [
    "### Conditional and Marignal Gaussian Distributions Summary"
   ]
  },
  {
   "cell_type": "markdown",
   "id": "70951609-cc38-4f8a-b1bb-cbc926245d8a",
   "metadata": {},
   "source": [
    "Given a joint Gaussian distribution $N(\\vec{x}|\\vec{\\mu},\\mathbf{\\Sigma})$ with $\\mathbf{\\Lambda} = \\mathbf{\\Sigma}^{-1}$ and\n",
    "$$\\vec{x} = \\begin{pmatrix} \\vec{x_a} \\\\ \\vec{x_b} \\end{pmatrix},\\vec{\\mu} = \\begin{pmatrix} \\vec{\\mu_a} \\\\ \\vec{\\mu_b} \\end{pmatrix},$$\n",
    "\n",
    "$$ \\mathbf{\\Sigma}  = \\begin{bmatrix} \\mathbf{\\Sigma_{aa}} \\ \\mathbf{\\Sigma_{ab}} \\\\  \\mathbf{\\Sigma_{ba}} \\ \\mathbf{\\Sigma_{bb}} \\end{bmatrix} , \n",
    "\\mathbf{\\Lambda}  = \\begin{bmatrix} \\mathbf{\\Lambda_{aa}} \\ \\mathbf{\\Lambda_{ab}} \\\\  \\mathbf{\\Lambda_{ba}} \\ \\mathbf{\\Lambda_{bb}} \\end{bmatrix} $$"
   ]
  },
  {
   "cell_type": "markdown",
   "id": "85d332f7-8553-401a-ba23-ef518bd8c676",
   "metadata": {},
   "source": [
    "#### Conditional Distribution\n",
    "$$p(\\vec{x_a}|\\vec{x_b}) = N(\\vec{x}|\\vec{\\mu}_{a} + \\mathbf{\\Sigma}_{ab}\\mathbf{\\Sigma}_{bb}^{-1}(\\vec{x_b}-\\vec{\\mu_b}), \\ \\mathbf{\\Sigma}_{aa} - \\mathbf{\\Sigma}_{ab}\\mathbf{\\Sigma}_{bb}^{-1}\\mathbf{\\Sigma}_{aa}) $$\n",
    "Or \n",
    "$$p(\\vec{x_a}|\\vec{x_b}) = N(\\vec{x}| \\vec{\\mu}_a -  \\mathbf{\\Lambda}_{aa}^{-1}\\mathbf{\\Lambda}_{ab}(\\vec{x_b}-\\vec{\\mu_b}) , \\ \\mathbf{\\Lambda}_{aa}^{-1})$$\n"
   ]
  },
  {
   "cell_type": "markdown",
   "id": "023688b5-f478-4736-9a51-4331620a587a",
   "metadata": {},
   "source": [
    "#### Marginal Distribution\n",
    "- If $k = a$, then $l=b$\n",
    "- If $k=b$, then $l = a$\n",
    "$$p(\\vec{x_k}) = N(\\vec{x}|\\vec{\\mu_k}, \\mathbf{\\Sigma}_{kk}) $$\n",
    "Or \n",
    "$$p(\\vec{x_k}) = N(\\vec{x}|\\vec{\\mu_k}, \\ (\\mathbf{\\Lambda}_{kk} - \\mathbf{\\Lambda}_{kl}\\mathbf{\\Lambda}_{ll}^{-1}\\mathbf{\\Lambda}_{lk})^{-1} ) $$"
   ]
  },
  {
   "cell_type": "markdown",
   "id": "d3f5b6d4-8d2f-43db-945c-dbf773d61d59",
   "metadata": {},
   "source": [
    "---"
   ]
  },
  {
   "cell_type": "markdown",
   "id": "18872a78-965d-42ce-af7a-d617dc3ea35e",
   "metadata": {},
   "source": [
    "## Bayes' Theorem for Gaussian Variables"
   ]
  },
  {
   "cell_type": "markdown",
   "id": "03d94b7e-1eff-4fa5-9cf1-bde81f1cb310",
   "metadata": {},
   "source": [
    "Suppose that we are given a Gaussian marginal distribution $p(\\vec{x})$ and a Gaussian conditional distribution $p(\\vec{y}|\\vec{x})$. We shall take the distibutions to be \n",
    "$$p(\\vec{x}) = N(\\vec{x}|\\vec{\\mu}, \\mathbf{\\Lambda}^{-1} ) $$\n",
    "$$p(\\vec{y}|\\vec{x}) = N(\\vec{y}|\\mathbf{A}\\vec{x}+\\vec{b}, \\mathbf{L}^{-1} ) $$"
   ]
  },
  {
   "cell_type": "markdown",
   "id": "8e453899-1876-4a6f-81b0-69f0b955e08c",
   "metadata": {},
   "source": [
    "Looking at the conditional Gaussian distribution formula, note we have that $\\vec{\\mu}_{a|b}$ is a linear function of $\\vec{x_b}$. Here we shall suppose that the Gaussian conditional distribution we are given, $p(\\vec{y}|\\vec{x})$, has a mean that is a linear function of $\\vec{x}$, and a covariance which is independent of $\\vec{x}$."
   ]
  },
  {
   "cell_type": "markdown",
   "id": "ce027abc-fa1e-4fe8-bb0a-50d402153ae3",
   "metadata": {},
   "source": [
    "First we find an expression for the joint distribution over $\\vec{x}$ and $\\vec{y}$. To do this, we define\n",
    "$$ \\vec{z} = \\begin{pmatrix}  \\vec{x} \\\\  \\vec{y} \\end{pmatrix} $$"
   ]
  },
  {
   "cell_type": "markdown",
   "id": "857bf5d3-e383-4ff2-be66-038eafff49ea",
   "metadata": {},
   "source": [
    "Then taking the log of the joint distribution we have\n",
    "$$ ln \\ p(\\vec{z}) = ln \\ p(\\vec{x}) + ln \\ p(\\vec{y}|\\vec{x}) = $$\n",
    "$$\n",
    "-\\dfrac{1}{2}(\\vec{x}-\\vec{\\mu})^T \\mathbf{\\Lambda} (\\vec{x}-\\vec{\\mu})\n",
    "-\\dfrac{1}{2}(\\vec{y}-\\mathbf{A}\\vec{x}-\\vec{b})^T \\mathbf{L} (\\vec{y}-\\mathbf{A}\\vec{x}-\\vec{b})\n",
    "+ const.\n",
    "$$"
   ]
  },
  {
   "cell_type": "markdown",
   "id": "c00d683e-cb7b-4a8c-bd83-0bff2522922b",
   "metadata": {},
   "source": [
    "From which we can expand the square to get the following second order terms\n",
    "$$\n",
    "-\\dfrac{1}{2}\\vec{x}^T \\mathbf{\\Lambda} \\vec{x}\n",
    "- \\dfrac{1}{2}\\vec{y}^T \\mathbf{L} \\vec{y}^T \n",
    "+ \\dfrac{1}{2}\\vec{y}^T  \\mathbf{L}\\mathbf{A} \\vec{x}\n",
    "+ \\dfrac{1}{2}\\vec{x}^T \\mathbf{A}^T\\mathbf{L} \\vec{y}^T\n",
    "+ \\dfrac{1}{2}\\vec{x}^T \\mathbf{A}^T\\mathbf{L}\\mathbf{A} \\vec{x}^T\n",
    "$$"
   ]
  },
  {
   "cell_type": "markdown",
   "id": "8ec1a9dd-6076-48d9-8e11-f30bd9042901",
   "metadata": {},
   "source": [
    "Combining the last term with the first term we have\n",
    "$$\n",
    "-\\dfrac{1}{2}\\vec{x}^T (\\mathbf{\\Lambda} + \\mathbf{A}^T\\mathbf{L}\\mathbf{A}) \\vec{x}\n",
    "- \\dfrac{1}{2}\\vec{y}^T \\mathbf{L} \\vec{y}^T \n",
    "+ \\dfrac{1}{2}\\vec{y}^T  \\mathbf{L}\\mathbf{A} \\vec{x}\n",
    "+ \\dfrac{1}{2}\\vec{x}^T \\mathbf{A}^T\\mathbf{L} \\vec{y}^T\n",
    "$$"
   ]
  },
  {
   "cell_type": "markdown",
   "id": "04921b0b-d57d-4f3d-8b1e-774173f798a4",
   "metadata": {},
   "source": [
    "So that we can rewrite the second order terms as\n",
    "$$\n",
    "-\\dfrac{1}{2}\n",
    "\\begin{pmatrix} \\vec{x} \\\\ \\vec{y} \\end{pmatrix}^T\n",
    "\\begin{pmatrix} \\mathbf{\\Lambda} + \\mathbf{A}^T\\mathbf{L}\\mathbf{A} \\ \\ \\ -  \\mathbf{A}^T\\mathbf{L} \\\\ -\\mathbf{L}\\mathbf{A} \\ \\ \\ \\ \\  \\ \\ \\mathbf{L} \\end{pmatrix}\n",
    "\\begin{pmatrix} \\vec{x} \\\\ \\vec{y} \\end{pmatrix} = -\\dfrac{1}{2}\\vec{z}^T\\mathbf{R}\\vec{z} $$"
   ]
  },
  {
   "cell_type": "markdown",
   "id": "f5eb4b73-77ad-4fe0-9b40-f3e5367ed3f7",
   "metadata": {},
   "source": [
    "And so the covalence of $\\vec{z}$ is given by the inverse of the precision $\\mathbf{R}$\n",
    "$$ cov[\\vec{z}] = \\mathbf{R}^{-1} =\\begin{pmatrix} \\mathbf{\\Lambda} + \\mathbf{A}^T\\mathbf{L}\\mathbf{A} \\ \\ \\ -  \\mathbf{A}^T\\mathbf{L} \\\\ -\\mathbf{L}\\mathbf{A} \\ \\ \\ \\ \\  \\ \\ \\mathbf{L} \\end{pmatrix}^ {-1} $$"
   ]
  },
  {
   "cell_type": "markdown",
   "id": "2126e4b5-99b7-4465-8369-4c8ae684d673",
   "metadata": {},
   "source": [
    "Using the inverse of a partioned matrix identity from below we have\n",
    "$$\\color{red}{ cov[\\vec{z}]  = \\begin{pmatrix} \\mathbf{\\Lambda}^{-1} \\ \\ \\ \\ \\ \\ \\ \\ \\ \\ \\ \\   \\mathbf{\\Lambda}^{-1}\\mathbf{A}^T \\\\ \\ \\ \\mathbf{A}\\mathbf{\\Lambda}^{-1} \\  \\ \\ \\ \\  \\mathbf{L}^{-1} + \\mathbf{A}\\mathbf{\\Lambda}^{-1}\\mathbf{A}^T  \\end{pmatrix}   }$$"
   ]
  },
  {
   "cell_type": "markdown",
   "id": "4901baee-eb79-4948-b00a-f651983a3844",
   "metadata": {},
   "source": [
    "Similarly, we can find the mean of the Gaussian distribution over z by identifying the linear terms\n",
    "\n",
    "\n",
    "$$\n",
    "\\vec{x}^T \\mathbf{\\Lambda}\\vec{\\mu}- \\vec{x}^T \\mathbf{A}^T\\mathbf{L} \\vec{b} + \\vec{y}^T \\mathbf{L} \\vec{b}\n",
    "$$"
   ]
  },
  {
   "cell_type": "markdown",
   "id": "f9162e2c-7890-419d-9bad-8e5488ef5f0f",
   "metadata": {},
   "source": [
    "and rewrite so we have the linear terms in the form\n",
    "$$\\begin{pmatrix} \\vec{x} \\\\ \\vec{y} \\end{pmatrix}^T\n",
    "\\begin{pmatrix} \\mathbf{\\Lambda}\\vec{\\mu} - \\mathbf{A}^T\\mathbf{L} \\vec{b} \\\\ \\mathbf{L} \\vec{b} \\end{pmatrix} $$"
   ]
  },
  {
   "cell_type": "markdown",
   "id": "1e1b05b2-dc98-4d35-891c-7148467ef0c5",
   "metadata": {},
   "source": [
    "Hence the mean is given by\n",
    "$$ E[\\vec{z}] = cov[\\vec{z}]*\\begin{pmatrix} \\mathbf{\\Lambda}\\vec{\\mu} - \\mathbf{A}^T\\mathbf{L} \\vec{b} \\\\ \\mathbf{L} \\vec{b} \\end{pmatrix} = \\begin{pmatrix} \\mathbf{\\Lambda}^{-1} \\ \\ \\ \\ \\ \\ \\ \\ \\ \\ \\ \\   \\mathbf{\\Lambda}^{-1}\\mathbf{A}^T \\\\ \\ \\ \\mathbf{A}\\mathbf{\\Lambda}^{-1} \\  \\ \\ \\ \\  \\mathbf{L}^{-1} + \\mathbf{A}\\mathbf{\\Lambda}^{-1}\\mathbf{A}^T  \\end{pmatrix}   \\begin{pmatrix} \\mathbf{\\Lambda}\\vec{\\mu} - \\mathbf{A}^T\\mathbf{L} \\vec{b} \\\\ \\mathbf{L} \\vec{b} \\end{pmatrix} $$"
   ]
  },
  {
   "cell_type": "markdown",
   "id": "1c2ce055-a599-4c3e-90e4-56a7aafb2743",
   "metadata": {},
   "source": [
    "$$ \\color{red}{ E[\\vec{z}] = \\begin{pmatrix} \\vec{\\mu} \\\\  \\mathbf{A}\\vec{\\mu} + \\vec{b} \\end{pmatrix} }$$"
   ]
  },
  {
   "cell_type": "markdown",
   "id": "71de6edd-bcf8-4ed4-bd8a-f87bba13506d",
   "metadata": {},
   "source": [
    "We can now move towards finding an expression for the marginal ditrubtion $p(\\vec{y})$ and the conditional distribution $p(\\vec{x}|\\vec{y})$."
   ]
  },
  {
   "cell_type": "markdown",
   "id": "9911faad-933b-4023-8ba4-a27e6b889a06",
   "metadata": {},
   "source": [
    "Let us start with the marginal distribution \n",
    "$$p(\\vec{y}) = N(\\vec{y}|E[\\vec{y}], cov [\\vec{y}])$$\n",
    "We can see from the expectation of $\\vec{z}$ we have\n",
    "$$\\color{red}{ E[\\vec{y}] =  \\mathbf{A}\\vec{\\mu} + \\vec{b}}$$\n",
    "For the covariance let us note that for the marginal distrbution formula we had $\\mathbf{\\Sigma}_k = \\mathbf{\\Sigma}_{kk}$ for $\\vec{x_k}$.\n",
    "Hence\n",
    "$$\\color{red}{ cov [\\vec{y}] =  cov[\\vec{z}]_{bb} = \\mathbf{L}^{-1} + \\mathbf{A}\\mathbf{\\Lambda}^{-1}\\mathbf{A}^T }$$"
   ]
  },
  {
   "cell_type": "markdown",
   "id": "66eb0b80-614c-4144-8ea4-0ecf1ebae150",
   "metadata": {},
   "source": [
    "Let us now move on to the conditional distibution.\n",
    "$$p(\\vec{x}|\\vec{y}) = N(\\vec{x}|E[\\vec{x}|\\vec{y}], cov[\\vec{x}|\\vec{y}])$$"
   ]
  },
  {
   "cell_type": "markdown",
   "id": "0ced331d-b9ae-4333-a1c1-d4b732145815",
   "metadata": {},
   "source": [
    "Using the conditional Gaussian distubution formula we have \n",
    "$$\n",
    "\\color{red}{cov[\\vec{x}|\\vec{y}] = cov[\\vec{z}]^{-1}_{aa} =  (\\mathbf{\\Lambda} + \\mathbf{A}^T\\mathbf{L}\\mathbf{A})^{-1}}\n",
    "$$"
   ]
  },
  {
   "cell_type": "markdown",
   "id": "fee07282-c726-4699-8ea6-4bf33d1e5d90",
   "metadata": {},
   "source": [
    "and for the mean we have\n",
    "$$\n",
    "E[\\vec{x}|\\vec{y}] \n",
    "= E[\\vec{x}] - cov[\\vec{x}|\\vec{y}]cov[z]^{-1}_{ab}(\\vec{y} - E[\\vec{y}])\n",
    "$$"
   ]
  },
  {
   "cell_type": "markdown",
   "id": "a6514166-f892-4863-8ce8-4ef36f451fc6",
   "metadata": {},
   "source": [
    "$$\n",
    "= \\vec{\\mu} -   (\\mathbf{\\Lambda} + \\mathbf{A}^T\\mathbf{L}\\mathbf{A})^{-1} (-\\mathbf{A}^T\\mathbf{L} ) [\\vec{y} - \\mathbf{A}\\vec{\\mu} - \\vec{b}]\n",
    "$$"
   ]
  },
  {
   "cell_type": "markdown",
   "id": "bdc82fd6-3dde-486b-a790-e5703be11cfa",
   "metadata": {},
   "source": [
    "$$\n",
    "= \\vec{\\mu} +   (\\mathbf{\\Lambda} + \\mathbf{A}^T\\mathbf{L}\\mathbf{A})^{-1} (\\mathbf{A}^T\\mathbf{L} ) [\\vec{y} - \\mathbf{A}\\vec{\\mu} - \\vec{b}]\n",
    "$$"
   ]
  },
  {
   "cell_type": "markdown",
   "id": "ad62b165-0fb7-4aa4-a46b-ed2b7f839a97",
   "metadata": {},
   "source": [
    "$$\n",
    "= (\\mathbf{\\Lambda} + \\mathbf{A}^T\\mathbf{L}\\mathbf{A})^{-1} (\\mathbf{A}^T\\mathbf{L} ) [\\vec{y} - \\mathbf{A}\\vec{\\mu} - \\vec{b} + (\\mathbf{\\Lambda} + \\mathbf{A}^T\\mathbf{L}\\mathbf{A})\\vec{\\mu}]\n",
    "$$"
   ]
  },
  {
   "cell_type": "markdown",
   "id": "42dd08dc-9fb6-411a-8f61-c73dcbc51715",
   "metadata": {},
   "source": [
    "$$\n",
    "= (\\mathbf{\\Lambda} + \\mathbf{A}^T\\mathbf{L}\\mathbf{A})^{-1}  [\\mathbf{A}^T\\mathbf{L}(\\vec{y} - \\vec{b}) - \\mathbf{A}^T\\mathbf{L}\\mathbf{A}\\vec{\\mu} + (\\mathbf{\\Lambda} + \\mathbf{A}^T\\mathbf{L}\\mathbf{A})\\vec{\\mu}]\n",
    "$$"
   ]
  },
  {
   "cell_type": "markdown",
   "id": "6b317455-6e21-4367-bf2c-841ea672ebdd",
   "metadata": {},
   "source": [
    "$$\n",
    "\\color{red}{E[\\vec{x}|\\vec{y}] = (\\mathbf{\\Lambda} + \\mathbf{A}^T\\mathbf{L}\\mathbf{A})^{-1}  [\\mathbf{A}^T\\mathbf{L}(\\vec{y} - \\vec{b}) + \\mathbf{\\Lambda}\\vec{\\mu}]}\n",
    "$$"
   ]
  },
  {
   "cell_type": "markdown",
   "id": "54650ec5-1583-4bd7-83e6-93e01da424b4",
   "metadata": {},
   "source": [
    "### Bayes' for Gaussian Variables Summary\n",
    "Given \n",
    "$$p(\\vec{x}) = N(\\vec{x}|\\vec{\\mu}, \\mathbf{\\Lambda}^{-1} ) $$\n",
    "$$p(\\vec{y}|\\vec{x}) = N(\\vec{y}|\\mathbf{A}\\vec{x}+\\vec{b}, \\mathbf{L}^{-1} ) $$\n",
    "we have\n",
    "$$p(\\vec{y}) = N(\\vec{y}|\\mathbf{A}\\vec{\\mu} + \\vec{b}, \\ \\mathbf{L}^{-1} + \\mathbf{A}\\mathbf{\\Lambda}^{-1}\\mathbf{A}^T )$$\n",
    "and\n",
    "$$p(\\vec{x}|\\vec{y}) =  N(\\vec{x}|(\\mathbf{\\Sigma}  [\\mathbf{A}^T\\mathbf{L}(\\vec{y} - \\vec{b}) + \\mathbf{\\Lambda}\\vec{\\mu}], \\ \\mathbf{\\Sigma}$$\n",
    "where $\\mathbf{\\Sigma} = (\\mathbf{\\Lambda} + \\mathbf{A}^T\\mathbf{L}\\mathbf{A})^{-1}$"
   ]
  },
  {
   "cell_type": "markdown",
   "id": "6faa36fb-3028-4a36-8aa4-cfa7f9a8459d",
   "metadata": {},
   "source": [
    "---"
   ]
  }
 ],
 "metadata": {
  "kernelspec": {
   "display_name": "Python 3 (ipykernel)",
   "language": "python",
   "name": "python3"
  },
  "language_info": {
   "codemirror_mode": {
    "name": "ipython",
    "version": 3
   },
   "file_extension": ".py",
   "mimetype": "text/x-python",
   "name": "python",
   "nbconvert_exporter": "python",
   "pygments_lexer": "ipython3",
   "version": "3.8.5"
  }
 },
 "nbformat": 4,
 "nbformat_minor": 5
}
